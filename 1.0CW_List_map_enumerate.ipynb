{
 "cells": [
  {
   "cell_type": "markdown",
   "metadata": {},
   "source": [
    "# List, map, enumerate"
   ]
  },
  {
   "cell_type": "code",
   "execution_count": 1,
   "metadata": {},
   "outputs": [
    {
     "name": "stdout",
     "output_type": "stream",
     "text": [
      "Максимальный элемент: 10\n"
     ]
    }
   ],
   "source": [
    "lists = [\n",
    "    [1, 2, 3, 10],\n",
    "    [4, 5, 6],\n",
    "    [7, 8, 9]\n",
    "]\n",
    "\n",
    "flat_list = [number for sublist in lists for number in sublist]\n",
    "\n",
    "max_element = max(flat_list)\n",
    "\n",
    "print(\"Максимальный элемент:\", max_element)"
   ]
  },
  {
   "cell_type": "code",
   "execution_count": 2,
   "metadata": {},
   "outputs": [
    {
     "name": "stdout",
     "output_type": "stream",
     "text": [
      "Максимальный элемент: 10\n"
     ]
    }
   ],
   "source": [
    "max_element = float('-inf')\n",
    "\n",
    "for sublist in lists:\n",
    "    for number in sublist:\n",
    "        if number > max_element:\n",
    "            max_element = number\n",
    "\n",
    "print(\"Максимальный элемент:\", max_element)"
   ]
  },
  {
   "cell_type": "code",
   "execution_count": 3,
   "metadata": {},
   "outputs": [
    {
     "name": "stdout",
     "output_type": "stream",
     "text": [
      "[[10, 2, 3, 1], [6, 5, 4], [9, 8, 7]]\n"
     ]
    }
   ],
   "source": [
    "for sublist in lists:\n",
    "    if len(sublist) >= 2:  \n",
    "        sublist[0], sublist[-1] = sublist[-1], sublist[0]\n",
    "        \n",
    "print(lists)"
   ]
  },
  {
   "cell_type": "code",
   "execution_count": 4,
   "metadata": {},
   "outputs": [
    {
     "name": "stdout",
     "output_type": "stream",
     "text": [
      "Отношение суммы всех элементов к числу элементов: 5.5\n"
     ]
    }
   ],
   "source": [
    "total_sum = 0\n",
    "total_elements = 0\n",
    "\n",
    "\n",
    "for sublist in lists:\n",
    "    total_sum += sum(sublist)  \n",
    "    total_elements += len(sublist)\n",
    "\n",
    "if total_elements > 0:\n",
    "    ratio = total_sum / total_elements\n",
    "else:\n",
    "    ratio = 0 \n",
    "\n",
    "\n",
    "print(\"Отношение суммы всех элементов к числу элементов:\", ratio)"
   ]
  },
  {
   "cell_type": "code",
   "execution_count": 5,
   "metadata": {},
   "outputs": [
    {
     "name": "stdout",
     "output_type": "stream",
     "text": [
      "[1, 2, [3, 4, [5, 6, 70], 5], 4, 3]\n",
      "[1, 2, [3, 4, [5, 6, 70], 60, 5], 4, 3]\n",
      "[1, 2, [3, 4, [5, 6, 70, 80, 90, 100], 60, 5], 4, 3]\n"
     ]
    }
   ],
   "source": [
    "my_list = [1, 2, [3, 4, [5, 6], 5], 4, 3]\n",
    "my_list[2][2].append(70)\n",
    "print(my_list)\n",
    "my_list[2].insert(3, 60)\n",
    "print(my_list)\n",
    "my_list[2][2].extend([80, 90, 100])\n",
    "print(my_list)"
   ]
  },
  {
   "cell_type": "code",
   "execution_count": 13,
   "metadata": {},
   "outputs": [
    {
     "name": "stdout",
     "output_type": "stream",
     "text": [
      "[[1, 2, 3, 4, 5, 6, 7, 8, 9, 10, 11], [1, 2, 3, 4, 5, 6, 7, 8, 9, 10, 11], [1, 2, 3, 4, 5, 6, 7, 8, 9, 10, 11], [1, 2, 3, 4, 5, 6, 7, 8, 9, 10, 11], [1, 2, 3, 4, 5, 6, 7, 8, 9, 10, 11], [1, 2, 3, 4, 5, 6, 7, 8, 9, 10, 11], [1, 2, 3, 4, 5, 6, 7, 8, 9, 10, 11], [1, 2, 3, 4, 5, 6, 7, 8, 9, 10, 11], [1, 2, 3, 4, 5, 6, 7, 8, 9, 10, 11], [1, 2, 3, 4, 5, 6, 7, 8, 9, 10, 11], [1, 2, 3, 4, 5, 6, 7, 8, 9, 10, 11]]\n",
      "[[1], [1, 2], [1, 2, 3], [1, 2, 3, 4], [1, 2, 3, 4, 5], [1, 2, 3, 4, 5, 6], [1, 2, 3, 4, 5, 6, 7], [1, 2, 3, 4, 5, 6, 7, 8], [1, 2, 3, 4, 5, 6, 7, 8, 9], [1, 2, 3, 4, 5, 6, 7, 8, 9, 10], [1, 2, 3, 4, 5, 6, 7, 8, 9, 10, 11]]\n"
     ]
    }
   ],
   "source": [
    "n = 11\n",
    "\n",
    "first_list = [[i for i in range(1, n + 1)] for _ in range(n)]\n",
    "print(first_list)\n",
    "second_list = [[i for i in range(1, j + 1)] for j in range(1, n + 1)]\n",
    "print(second_list)"
   ]
  },
  {
   "cell_type": "code",
   "execution_count": 14,
   "metadata": {},
   "outputs": [
    {
     "name": "stdout",
     "output_type": "stream",
     "text": [
      "[1, 9, 25]\n"
     ]
    }
   ],
   "source": [
    "original_list = [1, 3, 5]\n",
    "\n",
    "squared_list = [x ** 2 for x in original_list]\n",
    "\n",
    "print(squared_list)\n"
   ]
  },
  {
   "cell_type": "code",
   "execution_count": 15,
   "metadata": {},
   "outputs": [
    {
     "name": "stdout",
     "output_type": "stream",
     "text": [
      "[1, 9, 25]\n"
     ]
    }
   ],
   "source": [
    "original_list = [1, 3, 5]\n",
    "\n",
    "squared_list = list(map(lambda x: x ** 2, original_list))\n",
    "\n",
    "print(squared_list) "
   ]
  },
  {
   "cell_type": "code",
   "execution_count": 16,
   "metadata": {},
   "outputs": [
    {
     "name": "stdout",
     "output_type": "stream",
     "text": [
      "{'F': 1, 'i': 2, 'x': 3}\n"
     ]
    }
   ],
   "source": [
    "word = \"Fix\"\n",
    "\n",
    "letter_to_index = {letter: index for index, letter in enumerate(word, 1)}\n",
    "\n",
    "print(letter_to_index)"
   ]
  },
  {
   "cell_type": "code",
   "execution_count": 17,
   "metadata": {},
   "outputs": [
    {
     "name": "stdout",
     "output_type": "stream",
     "text": [
      "{'P': [], 'o': [1], 'l': [2, 2], 'y': [3, 3, 3], 't': [4, 4, 4, 4]}\n"
     ]
    }
   ],
   "source": [
    "word = \"Polyt\" \n",
    "\n",
    "letter_to_lists = {letter: [index] * index for index, letter in enumerate(word, 0)}\n",
    "\n",
    "print(letter_to_lists)"
   ]
  },
  {
   "cell_type": "markdown",
   "metadata": {},
   "source": [
    "# Псевдографика\n"
   ]
  },
  {
   "cell_type": "code",
   "execution_count": 18,
   "metadata": {},
   "outputs": [
    {
     "name": "stdout",
     "output_type": "stream",
     "text": [
      " | a b c d e f g | \n",
      "  ────────────────\n",
      "1│  ██  ██  ██  ██│1\n",
      "2│██  ██  ██  ██  │2\n",
      "3│  ██  ██  ██  ██│3\n",
      "4│██  ██  ██  ██  │4\n",
      "5│  ██  ██  ██  ██│5\n",
      "6│██  ██  ██  ██  │6\n",
      "7│  ██  ██  ██  ██│7\n",
      "8│██  ██  ██  ██  │8\n",
      "  ────────────────\n",
      " | a b c d e f g | \n"
     ]
    }
   ],
   "source": [
    "# шахматы\n",
    "height = 7\n",
    "width = 4\n",
    "white = '██'\n",
    "black = '  '\n",
    "border = '──'\n",
    "num = 0\n",
    "parity = 1 # началос отсчета с этого числа \n",
    "\n",
    "alphabet = 0\n",
    "numbering = \"\"\n",
    "alphabet_num = \"\"\n",
    "direction = 1 # может принимать занчание 1 или 2\n",
    "first = '`'\n",
    "i = ord(first)\n",
    "\n",
    "list = ''\n",
    "\n",
    "while alphabet < height:\n",
    "    alphabet = alphabet + 1\n",
    "    alphabet_num  = str(alphabet_num)\n",
    "    list = list + chr(i + alphabet) + \" \"\n",
    "print(\" | \" + list[0:15] + \"| \")\n",
    "print(\"  \" + border * width * 2)\n",
    "\n",
    "while num <= height:\n",
    "    numbering = str(parity)\n",
    "    if num % 2 == 0 and direction == 1:\n",
    "        print (numbering + \"│\" + (black+white) * width + \"│\" + numbering)\n",
    "        direction = 2\n",
    "    if num % 2 != 0 and direction == 2:\n",
    "        print (numbering + \"│\" + (white+black) * width + \"│\" + numbering)\n",
    "        direction = 1\n",
    "    num = num + 1\n",
    "    parity = parity + 1\n",
    "print(\"  \" + border * width * 2)\n",
    "print(\" | \" + list[0:15] + \"| \")"
   ]
  },
  {
   "cell_type": "code",
   "execution_count": 26,
   "metadata": {},
   "outputs": [
    {
     "name": "stdout",
     "output_type": "stream",
     "text": [
      "     *\n",
      "    ***\n",
      "   *****\n",
      "  *******\n",
      " *********\n",
      "***********\n",
      "     *\n",
      "    ***\n",
      "   *****\n",
      "  *******\n",
      " *********\n",
      "***********\n"
     ]
    }
   ],
   "source": [
    "def draw_christmas_tree(height):\n",
    "    for i in range(1, height + 1):\n",
    "        spaces = \" \" * (height - i)\n",
    "        stars = \"*\" * (2 * i - 1)\n",
    "        print(spaces + stars)\n",
    "    for i in range(1, height1+ 1):\n",
    "        spaces = \" \" * (height1 - i)\n",
    "        stars = \"*\" * (2 * i - 1)\n",
    "        print(spaces + stars)\n",
    "\n",
    "height = 6\n",
    "height1 = 6\n",
    "draw_christmas_tree(height)\n"
   ]
  },
  {
   "cell_type": "markdown",
   "metadata": {},
   "source": [
    "# Кортежи"
   ]
  },
  {
   "cell_type": "code",
   "execution_count": 27,
   "metadata": {},
   "outputs": [
    {
     "name": "stdout",
     "output_type": "stream",
     "text": [
      "{3: (8, 12)}\n"
     ]
    }
   ],
   "source": [
    "my_tuple = (3, 8, 12, 17)\n",
    "even_values = tuple(x for x in my_tuple if x % 2 == 0)\n",
    "my_dict = {my_tuple[0]: even_values}\n",
    "print(my_dict)"
   ]
  },
  {
   "cell_type": "code",
   "execution_count": 28,
   "metadata": {},
   "outputs": [
    {
     "name": "stdout",
     "output_type": "stream",
     "text": [
      "Ключи: (12, 34, 56, 78, 11, 23)\n",
      "Значения: (2, 12, 30, 56, 1, 6)\n"
     ]
    }
   ],
   "source": [
    "# Исходный кортеж из слов и цифр\n",
    "corpus = (\"apple\", 12, \"banana\", 34, \"cherry\", 56, \"date\", 78, 11, 23)\n",
    "\n",
    "# Функция для получения произведения двухзначных чисел\n",
    "def get_product_of_two_digit_numbers(tpl):\n",
    "    result = {}\n",
    "    for i in range(len(tpl)):\n",
    "        if isinstance(tpl[i], int) and 10 <= tpl[i] <= 99:\n",
    "            key = tpl[i]\n",
    "            value = (key // 10) * (key % 10)  # Произведение цифр в числе\n",
    "            result[key] = value\n",
    "    return result\n",
    "\n",
    "# Получение кортежа ключей и значений\n",
    "result_dict = get_product_of_two_digit_numbers(corpus)\n",
    "keys = tuple(result_dict.keys())\n",
    "values = tuple(result_dict.values())\n",
    "\n",
    "print(\"Ключи:\", keys)\n",
    "print(\"Значения:\", values)"
   ]
  },
  {
   "cell_type": "code",
   "execution_count": 31,
   "metadata": {},
   "outputs": [
    {
     "name": "stdout",
     "output_type": "stream",
     "text": [
      "{'Никита': 24.489795918367346, 'Глеб': 25.30864197530864, 'Саша': 24.977043158861342, 'Миша': 24.221453287197235}\n"
     ]
    }
   ],
   "source": [
    "people = [(\"Никита\", 1.75, 75), (\"Глеб\", 1.80, 82), (\"Саша\", 1.65, 68), (\"Миша\", 1.70, 70)]\n",
    "dict = {}\n",
    "\n",
    "for person in people:\n",
    "    name = person[0] \n",
    "    height = person[1]\n",
    "    weight = person[2]\n",
    "    bmi = weight / (height ** 2)\n",
    "    dict[name] = bmi\n",
    "print(dict)"
   ]
  },
  {
   "cell_type": "code",
   "execution_count": null,
   "metadata": {},
   "outputs": [],
   "source": [
    "import re\n",
    "\n",
    "str = '3 товара за 200.99'\n",
    "pat = r"
   ]
  }
 ],
 "metadata": {
  "kernelspec": {
   "display_name": "Python 3",
   "language": "python",
   "name": "python3"
  },
  "language_info": {
   "codemirror_mode": {
    "name": "ipython",
    "version": 3
   },
   "file_extension": ".py",
   "mimetype": "text/x-python",
   "name": "python",
   "nbconvert_exporter": "python",
   "pygments_lexer": "ipython3",
   "version": "3.11.4"
  },
  "orig_nbformat": 4
 },
 "nbformat": 4,
 "nbformat_minor": 2
}
