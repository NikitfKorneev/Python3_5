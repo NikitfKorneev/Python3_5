{
 "cells": [
  {
   "cell_type": "code",
   "execution_count": 1,
   "metadata": {},
   "outputs": [
    {
     "name": "stdout",
     "output_type": "stream",
     "text": [
      "Максимальный элемент: 10\n"
     ]
    }
   ],
   "source": [
    "lists = [\n",
    "    [1, 2, 3, 10],\n",
    "    [4, 5, 6],\n",
    "    [7, 8, 9]\n",
    "]\n",
    "\n",
    "flat_list = [number for sublist in lists for number in sublist]\n",
    "\n",
    "max_element = max(flat_list)\n",
    "\n",
    "print(\"Максимальный элемент:\", max_element)"
   ]
  },
  {
   "cell_type": "code",
   "execution_count": 2,
   "metadata": {},
   "outputs": [
    {
     "name": "stdout",
     "output_type": "stream",
     "text": [
      "Максимальный элемент: 10\n"
     ]
    }
   ],
   "source": [
    "max_element = float('-inf')\n",
    "\n",
    "for sublist in lists:\n",
    "    for number in sublist:\n",
    "        if number > max_element:\n",
    "            max_element = number\n",
    "\n",
    "print(\"Максимальный элемент:\", max_element)"
   ]
  },
  {
   "cell_type": "code",
   "execution_count": 3,
   "metadata": {},
   "outputs": [
    {
     "name": "stdout",
     "output_type": "stream",
     "text": [
      "[[10, 2, 3, 1], [6, 5, 4], [9, 8, 7]]\n"
     ]
    }
   ],
   "source": [
    "for sublist in lists:\n",
    "    if len(sublist) >= 2:  \n",
    "        sublist[0], sublist[-1] = sublist[-1], sublist[0]\n",
    "        \n",
    "print(lists)"
   ]
  },
  {
   "cell_type": "code",
   "execution_count": 4,
   "metadata": {},
   "outputs": [
    {
     "name": "stdout",
     "output_type": "stream",
     "text": [
      "Отношение суммы всех элементов к числу элементов: 5.5\n"
     ]
    }
   ],
   "source": [
    "total_sum = 0\n",
    "total_elements = 0\n",
    "\n",
    "\n",
    "for sublist in lists:\n",
    "    total_sum += sum(sublist)  \n",
    "    total_elements += len(sublist)\n",
    "\n",
    "if total_elements > 0:\n",
    "    ratio = total_sum / total_elements\n",
    "else:\n",
    "    ratio = 0 \n",
    "\n",
    "\n",
    "print(\"Отношение суммы всех элементов к числу элементов:\", ratio)"
   ]
  },
  {
   "cell_type": "code",
   "execution_count": 5,
   "metadata": {},
   "outputs": [
    {
     "name": "stdout",
     "output_type": "stream",
     "text": [
      "[1, 2, [3, 4, [5, 6, 70], 5], 4, 3]\n",
      "[1, 2, [3, 4, [5, 6, 70], 60, 5], 4, 3]\n",
      "[1, 2, [3, 4, [5, 6, 70, 80, 90, 100], 60, 5], 4, 3]\n"
     ]
    }
   ],
   "source": [
    "my_list = [1, 2, [3, 4, [5, 6], 5], 4, 3]\n",
    "my_list[2][2].append(70)\n",
    "print(my_list)\n",
    "my_list[2].insert(3, 60)\n",
    "print(my_list)\n",
    "my_list[2][2].extend([80, 90, 100])\n",
    "print(my_list)"
   ]
  },
  {
   "cell_type": "code",
   "execution_count": 6,
   "metadata": {},
   "outputs": [
    {
     "name": "stdout",
     "output_type": "stream",
     "text": [
      "[[1, 2, 3, 4, 5], [1, 2, 3, 4, 5], [1, 2, 3, 4, 5], [1, 2, 3, 4, 5], [1, 2, 3, 4, 5]]\n",
      "[[1], [1, 2], [1, 2, 3], [1, 2, 3, 4], [1, 2, 3, 4, 5]]\n"
     ]
    }
   ],
   "source": [
    "n = 5\n",
    "\n",
    "first_list = [[i for i in range(1, n + 1)] for _ in range(n)]\n",
    "print(first_list)\n",
    "second_list = [[i for i in range(1, j + 1)] for j in range(1, n + 1)]\n",
    "print(second_list)"
   ]
  },
  {
   "cell_type": "code",
   "execution_count": 7,
   "metadata": {},
   "outputs": [
    {
     "name": "stdout",
     "output_type": "stream",
     "text": [
      "[1, 9, 25]\n"
     ]
    }
   ],
   "source": [
    "original_list = [1, 3, 5]\n",
    "\n",
    "squared_list = [x ** 2 for x in original_list]\n",
    "\n",
    "print(squared_list)\n"
   ]
  },
  {
   "cell_type": "code",
   "execution_count": 8,
   "metadata": {},
   "outputs": [
    {
     "name": "stdout",
     "output_type": "stream",
     "text": [
      "[1, 9, 25]\n"
     ]
    }
   ],
   "source": [
    "original_list = [1, 3, 5]\n",
    "\n",
    "squared_list = list(map(lambda x: x ** 2, original_list))\n",
    "\n",
    "print(squared_list) "
   ]
  },
  {
   "cell_type": "code",
   "execution_count": 9,
   "metadata": {},
   "outputs": [
    {
     "name": "stdout",
     "output_type": "stream",
     "text": [
      "{'F': 1, 'i': 2, 'x': 3}\n"
     ]
    }
   ],
   "source": [
    "word = \"Fix\"\n",
    "\n",
    "letter_to_index = {letter: index for index, letter in enumerate(word, 1)}\n",
    "\n",
    "print(letter_to_index)"
   ]
  }
 ],
 "metadata": {
  "kernelspec": {
   "display_name": "Python 3",
   "language": "python",
   "name": "python3"
  },
  "language_info": {
   "codemirror_mode": {
    "name": "ipython",
    "version": 3
   },
   "file_extension": ".py",
   "mimetype": "text/x-python",
   "name": "python",
   "nbconvert_exporter": "python",
   "pygments_lexer": "ipython3",
   "version": "3.11.4"
  },
  "orig_nbformat": 4
 },
 "nbformat": 4,
 "nbformat_minor": 2
}
